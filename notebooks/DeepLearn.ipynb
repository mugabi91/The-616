{
  "cells": [
    {
      "cell_type": "markdown",
      "metadata": {
        "id": "svDYtaO2e8M3"
      },
      "source": [
        "#  Handwritten digit recognition\n",
        "By Mugabi Trevor,\n",
        "\n",
        "Today we take a look at Neural networks. The task here is to create a model such that can be able to classify hand written digits 0 to 9 . As a human thats an easy task for you , just looking at an image and knowing thats say a number 2 or so on but for a machine to know being showed images well then thats a whole different thing\n",
        "so one of the requirements for this is alot of data to use for training and testing. lucky for just the MNIST dataset exists free for your exploration\n",
        "stick with me here\n",
        "\n",
        "note: using one layer for simplicity with 784 neurals\n",
        "\n",
        "what you need for this: some statisitical knowledge in vector calculus, regression to understand whats happening underneath the hood.\n"
      ]
    },
    {
      "cell_type": "code",
      "execution_count": null,
      "metadata": {
        "id": "2lErBz49PEEp"
      },
      "outputs": [],
      "source": [
        "# importing the necessary mods\n",
        "import tensorflow as tf # this is a deeplearning frame work by google ... there more like pytorch..etc\n",
        "from tensorflow import keras # keras used to be a stand alone python lib for machince learning but now its baked into tf\n",
        "import numpy as np  # the usual numpy for our data manipulation\n",
        "import matplotlib.pyplot as plt #and yes ofcourse our visualisation tool\n",
        "%matplotlib inline\n",
        " # this makes visuals appear in line in a jupyter notebook"
      ]
    },
    {
      "cell_type": "markdown",
      "metadata": {
        "id": "ctoBbbotietc"
      },
      "source": []
    },
    {
      "cell_type": "markdown",
      "metadata": {
        "id": "fZVxq7q1nHYs"
      },
      "source": [
        "splitting the data into a train and test sets"
      ]
    },
    {
      "cell_type": "code",
      "execution_count": null,
      "metadata": {
        "colab": {
          "base_uri": "https://localhost:8080/"
        },
        "id": "T5tgxq2TSsZq",
        "outputId": "0cb28909-bb94-42a6-e548-85f7594ce15c"
      },
      "outputs": [
        {
          "output_type": "stream",
          "name": "stdout",
          "text": [
            "Downloading data from https://storage.googleapis.com/tensorflow/tf-keras-datasets/mnist.npz\n",
            "11490434/11490434 [==============================] - 0s 0us/step\n"
          ]
        }
      ],
      "source": [
        "(x_train,y_train) ,(x_test,y_test)= keras.datasets.mnist.load_data() # loading the dataset"
      ]
    },
    {
      "cell_type": "code",
      "execution_count": null,
      "metadata": {
        "id": "Zy8wtJe2cR14"
      },
      "outputs": [],
      "source": [
        "#scaling the data .. ML is sensitive data must be clean and scaled if its too big\n",
        "\"\"\" so before we continue .Did you know images have a pixel length and pixel width???\n",
        "so an image  basically has an area it covers and pixels in that area will have to take\n",
        "on specific values btn 0 and 255 that represent an image\n",
        "0  for black, 255 for white .. \"\"\"\n",
        "# scaling data\n",
        "x_train = x_train/255\n",
        "x_test = x_test/255"
      ]
    },
    {
      "cell_type": "code",
      "execution_count": null,
      "metadata": {
        "colab": {
          "base_uri": "https://localhost:8080/",
          "height": 455
        },
        "id": "ykHyVoYElQ78",
        "outputId": "4eff7a3b-72a6-409e-b762-e3dd7758767c"
      },
      "outputs": [
        {
          "output_type": "execute_result",
          "data": {
            "text/plain": [
              "' yes its easy for you a human to clearly know thats a 3 but a machine!!!!!\\nwell it sees an array '"
            ],
            "application/vnd.google.colaboratory.intrinsic+json": {
              "type": "string"
            }
          },
          "metadata": {},
          "execution_count": 4
        },
        {
          "output_type": "display_data",
          "data": {
            "text/plain": [
              "<Figure size 480x480 with 1 Axes>"
            ],
            "image/png": "[encoded data removed]"
          },
          "metadata": {}
        }
      ],
      "source": [
        " # example of the images we are to feed the model and have it tell us what number that is\n",
        "plt.matshow(x_train[50])\n",
        "\"\"\" yes its easy for you a human to clearly know thats a 3 but a machine!!!!!\n",
        "well it sees an array \"\"\""
      ]
    },
    {
      "cell_type": "code",
      "execution_count": null,
      "metadata": {
        "colab": {
          "base_uri": "https://localhost:8080/"
        },
        "id": "8gBpukucVVDI",
        "outputId": "7c764a5b-644e-4a01-9531-58daed13780f"
      },
      "outputs": [
        {
          "output_type": "execute_result",
          "data": {
            "text/plain": [
              "(60000, 28, 28)"
            ]
          },
          "metadata": {},
          "execution_count": 5
        }
      ],
      "source": [
        "# viewing the shape of our data ..\n",
        "x_train.shape"
      ]
    },
    {
      "cell_type": "markdown",
      "metadata": {
        "id": "j57kIgrkVpUJ"
      },
      "source": []
    },
    {
      "cell_type": "markdown",
      "metadata": {
        "id": "YEv7HVrUVcBu"
      },
      "source": [
        "the shape is in format (total entries,length of pixel ,width of pixel)"
      ]
    },
    {
      "cell_type": "markdown",
      "metadata": {
        "id": "e4SXMrVGVCZW"
      },
      "source": [
        "Reshaping my input from 28 by 28 pixel image"
      ]
    },
    {
      "cell_type": "code",
      "execution_count": null,
      "metadata": {
        "colab": {
          "base_uri": "https://localhost:8080/"
        },
        "id": "QiQF8uPrUlfW",
        "outputId": "654d733b-0d16-4100-d493-95f81ee6ae56"
      },
      "outputs": [
        {
          "output_type": "execute_result",
          "data": {
            "text/plain": [
              "(60000, 784)"
            ]
          },
          "metadata": {},
          "execution_count": 6
        }
      ],
      "source": [
        "# reshaping to feed each neural\n",
        "x_train_flattened = x_train.reshape(len(x_train),(28**2))\n",
        "x_train_flattened.shape"
      ]
    },
    {
      "cell_type": "code",
      "execution_count": null,
      "metadata": {
        "colab": {
          "base_uri": "https://localhost:8080/"
        },
        "id": "yL7NXiI_WdxP",
        "outputId": "b8b682e3-d0a1-478c-bc2c-fa03d66dd30f"
      },
      "outputs": [
        {
          "output_type": "execute_result",
          "data": {
            "text/plain": [
              "(10000, 784)"
            ]
          },
          "metadata": {},
          "execution_count": 7
        }
      ],
      "source": [
        "# reshaping to feed each neural\n",
        "x_test_flattened = x_test.reshape(len(x_test),(28**2))\n",
        "x_test_flattened.shape"
      ]
    },
    {
      "cell_type": "markdown",
      "metadata": {
        "id": "1N2xyr_4n_mi"
      },
      "source": [
        "Describing the topology of the model"
      ]
    },
    {
      "cell_type": "code",
      "execution_count": null,
      "metadata": {
        "id": "ImHkpu1sXbA5"
      },
      "outputs": [],
      "source": [
        "# lets skip this part\n",
        "model = keras.Sequential([\n",
        "    keras.layers.Dense(\n",
        "        784,   # my output layer since we trying to determine if number is btn 0 to 9 so 10\n",
        "        input_shape=(784,), # my input layer of 784 neurals\n",
        "        activation='sigmoid' #func to r\n",
        "        ),\n",
        "    keras.layers.Dense(\n",
        "        784,\n",
        "        activation='relu' #func to r\n",
        "        ),\n",
        "    keras.layers.Dense(\n",
        "        10,\n",
        "        activation='sigmoid' #func to r\n",
        "        ),\n",
        "])\n",
        "\n",
        "model.compile(\n",
        "    optimizer='adam', #optimizer\n",
        "    loss='sparse_categorical_crossentropy',# the loss func\n",
        "    metrics=['accuracy'] # metric to measure the model accuracy\n",
        ")"
      ]
    },
    {
      "cell_type": "markdown",
      "metadata": {
        "id": "MEerF_Jrna-U"
      },
      "source": [
        "Fitting the model on the data here below  now epochs are just the number of times"
      ]
    },
    {
      "cell_type": "code",
      "execution_count": null,
      "metadata": {
        "colab": {
          "base_uri": "https://localhost:8080/"
        },
        "id": "zANDNZOnaMLG",
        "outputId": "81eb3c6d-6ed2-4bd3-bd48-92eba6d48d5f"
      },
      "outputs": [
        {
          "output_type": "stream",
          "name": "stdout",
          "text": [
            "Epoch 1/5\n",
            "1875/1875 [==============================] - 36s 19ms/step - loss: 0.3184 - accuracy: 0.9046\n",
            "Epoch 2/5\n",
            "1875/1875 [==============================] - 36s 19ms/step - loss: 0.1301 - accuracy: 0.9597\n",
            "Epoch 3/5\n",
            "1875/1875 [==============================] - 35s 19ms/step - loss: 0.0816 - accuracy: 0.9748\n",
            "Epoch 4/5\n",
            "1875/1875 [==============================] - 34s 18ms/step - loss: 0.0562 - accuracy: 0.9822\n",
            "Epoch 5/5\n",
            "1875/1875 [==============================] - 37s 20ms/step - loss: 0.0401 - accuracy: 0.9872\n"
          ]
        },
        {
          "output_type": "execute_result",
          "data": {
            "text/plain": [
              "<keras.src.callbacks.History at 0x7c2fbe62e9b0>"
            ]
          },
          "metadata": {},
          "execution_count": 15
        }
      ],
      "source": [
        "model.fit(x=x_train_flattened,y=y_train, epochs=5) #An epoch is one complete pass through the entire training dataset"
      ]
    },
    {
      "cell_type": "markdown",
      "metadata": {
        "id": "yrtvbYZdo9GT"
      },
      "source": [
        "its done training and claims to have 92.5% accuracy lets see..."
      ]
    },
    {
      "cell_type": "code",
      "execution_count": null,
      "metadata": {
        "colab": {
          "base_uri": "https://localhost:8080/"
        },
        "id": "Tbe4mnj6dEuv",
        "outputId": "285b0101-10b8-4c6d-a403-b3cd4818e9c3"
      },
      "outputs": [
        {
          "output_type": "stream",
          "name": "stdout",
          "text": [
            "313/313 [==============================] - 2s 5ms/step - loss: 0.0670 - accuracy: 0.9807\n"
          ]
        },
        {
          "output_type": "execute_result",
          "data": {
            "text/plain": [
              "[0.06703659147024155, 0.9807000160217285]"
            ]
          },
          "metadata": {},
          "execution_count": 16
        }
      ],
      "source": [
        "model.evaluate(x_test_flattened,y_test) #testing with test dataset and comparing its answer"
      ]
    },
    {
      "cell_type": "markdown",
      "metadata": {
        "id": "itLmwjdXpUP_"
      },
      "source": [
        "still 92.5% accuracy.. lets test it"
      ]
    },
    {
      "cell_type": "code",
      "execution_count": null,
      "metadata": {
        "colab": {
          "base_uri": "https://localhost:8080/",
          "height": 454
        },
        "id": "5g-ePpkTdbgD",
        "outputId": "0afa0f4e-f29c-4296-eee3-07e4f8560a8a"
      },
      "outputs": [
        {
          "output_type": "execute_result",
          "data": {
            "text/plain": [
              "<matplotlib.image.AxesImage at 0x7c2fbe577ac0>"
            ]
          },
          "metadata": {},
          "execution_count": 17
        },
        {
          "output_type": "display_data",
          "data": {
            "text/plain": [
              "<Figure size 480x480 with 1 Axes>"
            ],
            "image/png": "[encoded data removed]"
          },
          "metadata": {}
        }
      ],
      "source": [
        "plt.matshow(x_test[45]) # this is the point am to test with its cleary a 5 lets see what it gives back"
      ]
    },
    {
      "cell_type": "code",
      "execution_count": null,
      "metadata": {
        "colab": {
          "base_uri": "https://localhost:8080/"
        },
        "id": "xmo537d1d48f",
        "outputId": "d41f6ed6-4ff6-4ec0-c02d-b94d908e5d2f"
      },
      "outputs": [
        {
          "output_type": "stream",
          "name": "stdout",
          "text": [
            "313/313 [==============================] - 2s 5ms/step\n"
          ]
        }
      ],
      "source": [
        "y_predicted = model.predict(x_test_flattened) # making it predict\n",
        " # its answer well what do you know? its correct\n",
        "\n"
      ]
    },
    {
      "cell_type": "code",
      "source": [
        "y_predicted[45]\n"
      ],
      "metadata": {
        "colab": {
          "base_uri": "https://localhost:8080/"
        },
        "id": "W8hD3kmT867R",
        "outputId": "d93b92fd-1a22-459c-89fd-832ab2646921"
      },
      "execution_count": null,
      "outputs": [
        {
          "output_type": "execute_result",
          "data": {
            "text/plain": [
              "array([1.3793731e-03, 4.5369120e-04, 6.0264694e-07, 8.6155050e-02,\n",
              "       7.1750515e-06, 9.9999976e-01, 4.5767429e-01, 7.0648716e-06,\n",
              "       1.8028319e-01, 2.0911634e-01], dtype=float32)"
            ]
          },
          "metadata": {},
          "execution_count": 28
        }
      ]
    },
    {
      "cell_type": "code",
      "execution_count": null,
      "metadata": {
        "id": "OwPHHVckqiJo"
      },
      "outputs": [],
      "source": [
        "y_predicted_arg = [np.argmax(i) for i in y_predicted]"
      ]
    },
    {
      "cell_type": "code",
      "source": [
        "y_predicted_arg[45]"
      ],
      "metadata": {
        "colab": {
          "base_uri": "https://localhost:8080/"
        },
        "id": "6Lt0H4gb8heU",
        "outputId": "22efd693-be01-45d0-dd90-01bf8ea54e28"
      },
      "execution_count": null,
      "outputs": [
        {
          "output_type": "execute_result",
          "data": {
            "text/plain": [
              "5"
            ]
          },
          "metadata": {},
          "execution_count": 29
        }
      ]
    },
    {
      "cell_type": "markdown",
      "source": [
        "we got a 5 back\n"
      ],
      "metadata": {
        "id": "oJlsZDG7ccwy"
      }
    }
  ],
  "metadata": {
    "colab": {
      "provenance": []
    },
    "kernelspec": {
      "display_name": "Python 3",
      "name": "python3"
    },
    "language_info": {
      "name": "python"
    }
  },
  "nbformat": 4,
  "nbformat_minor": 0
}