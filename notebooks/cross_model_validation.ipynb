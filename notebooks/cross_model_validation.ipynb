{
 "cells": [
  {
   "cell_type": "markdown",
   "id": "56b6218f-9745-47e0-aa0f-6ba51ed6dbdc",
   "metadata": {},
   "source": [
    "# TASK\n",
    "### Use iris flower dataset from sklearn library and use cross_val_score against following models to measure the performance of each. In the end figure out the model with best performance\n",
    "\n",
    "#### Logistic Regression\n",
    "#### SVM \r",
    "#### Decision Tree\n",
    "#### Random forest,"
   ]
  },
  {
   "cell_type": "code",
   "execution_count": 1,
   "id": "eba2bd97-23e7-4674-9d8b-53161075d480",
   "metadata": {},
   "outputs": [
    {
     "name": "stdout",
     "output_type": "stream",
     "text": [
      ".. _iris_dataset:\n",
      "\n",
      "Iris plants dataset\n",
      "--------------------\n",
      "\n",
      "**Data Set Characteristics:**\n",
      "\n",
      "    :Number of Instances: 150 (50 in each of three classes)\n",
      "    :Number of Attributes: 4 numeric, predictive attributes and the class\n",
      "    :Attribute Information:\n",
      "        - sepal length in cm\n",
      "        - sepal width in cm\n",
      "        - petal length in cm\n",
      "        - petal width in cm\n",
      "        - class:\n",
      "                - Iris-Setosa\n",
      "                - Iris-Versicolour\n",
      "                - Iris-Virginica\n",
      "                \n",
      "    :Summary Statistics:\n",
      "\n",
      "    ============== ==== ==== ======= ===== ====================\n",
      "                    Min  Max   Mean    SD   Class Correlation\n",
      "    ============== ==== ==== ======= ===== ====================\n",
      "    sepal length:   4.3  7.9   5.84   0.83    0.7826\n",
      "    sepal width:    2.0  4.4   3.05   0.43   -0.4194\n",
      "    petal length:   1.0  6.9   3.76   1.76    0.9490  (high!)\n",
      "    petal width:    0.1  2.5   1.20   0.76    0.9565  (high!)\n",
      "    ============== ==== ==== ======= ===== ====================\n",
      "\n",
      "    :Missing Attribute Values: None\n",
      "    :Class Distribution: 33.3% for each of 3 classes.\n",
      "    :Creator: R.A. Fisher\n",
      "    :Donor: Michael Marshall (MARSHALL%PLU@io.arc.nasa.gov)\n",
      "    :Date: July, 1988\n",
      "\n",
      "The famous Iris database, first used by Sir R.A. Fisher. The dataset is taken\n",
      "from Fisher's paper. Note that it's the same as in R, but not as in the UCI\n",
      "Machine Learning Repository, which has two wrong data points.\n",
      "\n",
      "This is perhaps the best known database to be found in the\n",
      "pattern recognition literature.  Fisher's paper is a classic in the field and\n",
      "is referenced frequently to this day.  (See Duda & Hart, for example.)  The\n",
      "data set contains 3 classes of 50 instances each, where each class refers to a\n",
      "type of iris plant.  One class is linearly separable from the other 2; the\n",
      "latter are NOT linearly separable from each other.\n",
      "\n",
      "|details-start|\n",
      "**References**\n",
      "|details-split|\n",
      "\n",
      "- Fisher, R.A. \"The use of multiple measurements in taxonomic problems\"\n",
      "  Annual Eugenics, 7, Part II, 179-188 (1936); also in \"Contributions to\n",
      "  Mathematical Statistics\" (John Wiley, NY, 1950).\n",
      "- Duda, R.O., & Hart, P.E. (1973) Pattern Classification and Scene Analysis.\n",
      "  (Q327.D83) John Wiley & Sons.  ISBN 0-471-22361-1.  See page 218.\n",
      "- Dasarathy, B.V. (1980) \"Nosing Around the Neighborhood: A New System\n",
      "  Structure and Classification Rule for Recognition in Partially Exposed\n",
      "  Environments\".  IEEE Transactions on Pattern Analysis and Machine\n",
      "  Intelligence, Vol. PAMI-2, No. 1, 67-71.\n",
      "- Gates, G.W. (1972) \"The Reduced Nearest Neighbor Rule\".  IEEE Transactions\n",
      "  on Information Theory, May 1972, 431-433.\n",
      "- See also: 1988 MLC Proceedings, 54-64.  Cheeseman et al\"s AUTOCLASS II\n",
      "  conceptual clustering system finds 3 classes in the data.\n",
      "- Many, many more ...\n",
      "\n",
      "|details-end|\n"
     ]
    }
   ],
   "source": [
    "# Loading the Iris dataset\n",
    "from sklearn.datasets import load_iris\n",
    "\n",
    "iris = load_iris()\n",
    "\n",
    "print(iris.DESCR)\n"
   ]
  },
  {
   "cell_type": "code",
   "execution_count": 2,
   "id": "4377d0ff-f28a-4adf-baa1-afebbbf629bc",
   "metadata": {},
   "outputs": [],
   "source": [
    "#importing all necessary libs\n",
    "from sklearn.model_selection import train_test_split, cross_val_score \n",
    "from sklearn.linear_model import LogisticRegression\n",
    "from sklearn.svm import SVC\n",
    "from sklearn.tree import DecisionTreeClassifier as DTC\n",
    "from sklearn.ensemble import RandomForestClassifier as RFC\n",
    "from sklearn.metrics import accuracy_score\n",
    "from sklearn.preprocessing import StandardScaler\n",
    "\n",
    "import numpy as np"
   ]
  },
  {
   "cell_type": "code",
   "execution_count": 3,
   "id": "33266ae4-d061-488d-b57b-e853339c5ba6",
   "metadata": {},
   "outputs": [
    {
     "data": {
      "text/plain": [
       "((120, 4), (30, 4))"
      ]
     },
     "execution_count": 3,
     "metadata": {},
     "output_type": "execute_result"
    }
   ],
   "source": [
    "#selecting the features and target\n",
    "X=iris.data\n",
    "y=iris.target\n",
    "\n",
    "#splittinf data\n",
    "X_train, X_test, y_train, y_test =train_test_split(X, y, test_size=0.2, stratify=y, shuffle=True,random_state=42)\n",
    "\n",
    "#scaling data\n",
    "scaler = StandardScaler()\n",
    "X_train_scaled = scaler.fit_transform(X_train)\n",
    "X_test_scaled = scaler.transform(X_test)\n",
    "\n",
    "\n",
    "#checking shape of X_train and X_test\n",
    "X_train.shape , X_test.shape"
   ]
  },
  {
   "cell_type": "code",
   "execution_count": 4,
   "id": "3aa5d52e-ceaa-4305-bcc3-17506c432bd8",
   "metadata": {},
   "outputs": [],
   "source": [
    "\n",
    "results ={}\n",
    "cross_Val_dict ={}\n",
    "def fit_model(model_instance, model_name, X_train, X_test, y_train, y_test):\n",
    "    model_instance.fit(X_train, y_train)\n",
    "    y_pred = model_instance.predict(X_test)\n",
    "    score = accuracy_score(y_test,y_pred)\n",
    "    results[model_name] = [score]\n",
    "    crossval = cross_val_score(model_instance,X_train, y_train)\n",
    "    cross_Val_dict[model_name] = [np.mean(crossval)]\n",
    " \n",
    "    return results, cross_Val_dict\n",
    "\n"
   ]
  },
  {
   "cell_type": "code",
   "execution_count": 5,
   "id": "864c61d5-a1d5-4385-b361-3d6ad9ce989f",
   "metadata": {},
   "outputs": [],
   "source": [
    "#instances \n",
    "LogReg = LogisticRegression()\n",
    "supportVec = SVC()\n",
    "DecTree = DTC()\n",
    "RandForest = RFC()\n",
    "\n",
    "models= [LogReg, supportVec, DecTree, RandForest]\n",
    "names = ['LogisticRegression','SupportVector','DecisionTree','RandomForest']"
   ]
  },
  {
   "cell_type": "code",
   "execution_count": 6,
   "id": "0a98de22-9b37-4ecb-afc6-13afc48a8eb5",
   "metadata": {},
   "outputs": [],
   "source": [
    "for model,name  in zip(models,names):\n",
    "    fit_model(model_instance=model,model_name=name,X_train=X_train_scaled, X_test=X_test_scaled , y_train=y_train, y_test=y_test)\n"
   ]
  },
  {
   "cell_type": "code",
   "execution_count": 7,
   "id": "040cb101-e8fe-46be-a565-0acb0e21b118",
   "metadata": {},
   "outputs": [
    {
     "data": {
      "text/html": [
       "<div>\n",
       "<style scoped>\n",
       "    .dataframe tbody tr th:only-of-type {\n",
       "        vertical-align: middle;\n",
       "    }\n",
       "\n",
       "    .dataframe tbody tr th {\n",
       "        vertical-align: top;\n",
       "    }\n",
       "\n",
       "    .dataframe thead th {\n",
       "        text-align: right;\n",
       "    }\n",
       "</style>\n",
       "<table border=\"1\" class=\"dataframe\">\n",
       "  <thead>\n",
       "    <tr style=\"text-align: right;\">\n",
       "      <th></th>\n",
       "      <th>Normal_score</th>\n",
       "      <th>Average_crossVad_score</th>\n",
       "    </tr>\n",
       "  </thead>\n",
       "  <tbody>\n",
       "    <tr>\n",
       "      <th>LogisticRegression</th>\n",
       "      <td>0.933333</td>\n",
       "      <td>0.958333</td>\n",
       "    </tr>\n",
       "    <tr>\n",
       "      <th>SupportVector</th>\n",
       "      <td>0.966667</td>\n",
       "      <td>0.966667</td>\n",
       "    </tr>\n",
       "    <tr>\n",
       "      <th>DecisionTree</th>\n",
       "      <td>0.933333</td>\n",
       "      <td>0.933333</td>\n",
       "    </tr>\n",
       "    <tr>\n",
       "      <th>RandomForest</th>\n",
       "      <td>0.933333</td>\n",
       "      <td>0.950000</td>\n",
       "    </tr>\n",
       "  </tbody>\n",
       "</table>\n",
       "</div>"
      ],
      "text/plain": [
       "                    Normal_score  Average_crossVad_score\n",
       "LogisticRegression      0.933333                0.958333\n",
       "SupportVector           0.966667                0.966667\n",
       "DecisionTree            0.933333                0.933333\n",
       "RandomForest            0.933333                0.950000"
      ]
     },
     "execution_count": 7,
     "metadata": {},
     "output_type": "execute_result"
    }
   ],
   "source": [
    "#creating DAta frame to evaluate  accuracy results \n",
    "import pandas as pd  \n",
    "df_0 =pd.DataFrame(results)\n",
    "df_0 = df_0.T\n",
    "df_0.rename(columns={0:\"Normal_score\"},inplace=True)\n",
    "\n",
    "\n",
    "df_1 =pd.DataFrame(cross_Val_dict)\n",
    "df_1 = df_1.T\n",
    "df_1.rename(columns={0:\"Average_crossVad_score\"},inplace=True)\n",
    "\n",
    "df = pd.concat([df_0,df_1],axis=1)\n",
    "df\n",
    "\n"
   ]
  },
  {
   "cell_type": "markdown",
   "id": "eb231389-0bbc-414a-b3a7-d25d6fe1d753",
   "metadata": {},
   "source": [
    "SVM IS THE BEST WITH 97%"
   ]
  }
 ],
 "metadata": {
  "kernelspec": {
   "display_name": "Python 3 (ipykernel)",
   "language": "python",
   "name": "python3"
  },
  "language_info": {
   "codemirror_mode": {
    "name": "ipython",
    "version": 3
   },
   "file_extension": ".py",
   "mimetype": "text/x-python",
   "name": "python",
   "nbconvert_exporter": "python",
   "pygments_lexer": "ipython3",
   "version": "3.12.0"
  }
 },
 "nbformat": 4,
 "nbformat_minor": 5
}
